{
 "cells": [
  {
   "cell_type": "markdown",
   "metadata": {},
   "source": [
    "we will solve a regression problem predicting the number of passengers using the taxi cars in New York City. We can predict the number of passengers to expect next week or next month and manage the taxi availability accordingly.\n",
    "\n",
    "\n",
    " Sample: 10844 0 0"
   ]
  },
  {
   "cell_type": "code",
   "execution_count": 1,
   "metadata": {
    "id": "r0JEcVmy4oF_"
   },
   "outputs": [],
   "source": [
    "import pandas as pd\n",
    "import numpy as np\n",
    "import matplotlib.pyplot as plt\n",
    "import seaborn as sns\n",
    "from sklearn import preprocessing\n",
    "import tensorflow as tf\n",
    "from keras.models import Sequential\n",
    "from keras.layers import Bidirectional, LSTM, Dropout, Dense\n",
    "import pickle\n",
    "import joblib"
   ]
  },
  {
   "cell_type": "code",
   "execution_count": 2,
   "metadata": {
    "colab": {
     "base_uri": "https://localhost:8080/",
     "height": 203
    },
    "id": "RzpTEKiE49PP",
    "outputId": "41c90d0b-0594-43b3-b1bd-1dbec8b809ca"
   },
   "outputs": [
    {
     "data": {
      "text/html": [
       "<div>\n",
       "<style scoped>\n",
       "    .dataframe tbody tr th:only-of-type {\n",
       "        vertical-align: middle;\n",
       "    }\n",
       "\n",
       "    .dataframe tbody tr th {\n",
       "        vertical-align: top;\n",
       "    }\n",
       "\n",
       "    .dataframe thead th {\n",
       "        text-align: right;\n",
       "    }\n",
       "</style>\n",
       "<table border=\"1\" class=\"dataframe\">\n",
       "  <thead>\n",
       "    <tr style=\"text-align: right;\">\n",
       "      <th></th>\n",
       "      <th>timestamp</th>\n",
       "      <th>value</th>\n",
       "    </tr>\n",
       "  </thead>\n",
       "  <tbody>\n",
       "    <tr>\n",
       "      <th>0</th>\n",
       "      <td>2014-07-01 00:00:00</td>\n",
       "      <td>10844</td>\n",
       "    </tr>\n",
       "    <tr>\n",
       "      <th>1</th>\n",
       "      <td>2014-07-01 00:30:00</td>\n",
       "      <td>8127</td>\n",
       "    </tr>\n",
       "    <tr>\n",
       "      <th>2</th>\n",
       "      <td>2014-07-01 01:00:00</td>\n",
       "      <td>6210</td>\n",
       "    </tr>\n",
       "    <tr>\n",
       "      <th>3</th>\n",
       "      <td>2014-07-01 01:30:00</td>\n",
       "      <td>4656</td>\n",
       "    </tr>\n",
       "    <tr>\n",
       "      <th>4</th>\n",
       "      <td>2014-07-01 02:00:00</td>\n",
       "      <td>3820</td>\n",
       "    </tr>\n",
       "  </tbody>\n",
       "</table>\n",
       "</div>"
      ],
      "text/plain": [
       "             timestamp  value\n",
       "0  2014-07-01 00:00:00  10844\n",
       "1  2014-07-01 00:30:00   8127\n",
       "2  2014-07-01 01:00:00   6210\n",
       "3  2014-07-01 01:30:00   4656\n",
       "4  2014-07-01 02:00:00   3820"
      ]
     },
     "execution_count": 2,
     "metadata": {},
     "output_type": "execute_result"
    }
   ],
   "source": [
    "df = pd.read_csv('C:\\\\Naresh Workspace\\\\SRH Heidelberg\\\\Big Data and Business Analytics\\\\Analytics 4\\\\data\\\\nyc_taxi.csv')\n",
    "df.head()"
   ]
  },
  {
   "cell_type": "code",
   "execution_count": 3,
   "metadata": {
    "colab": {
     "base_uri": "https://localhost:8080/"
    },
    "id": "aNB4lizR5AsF",
    "outputId": "9bcab66f-3999-444a-8eda-a3c5903be944"
   },
   "outputs": [
    {
     "data": {
      "text/plain": [
       "(10320, 2)"
      ]
     },
     "execution_count": 3,
     "metadata": {},
     "output_type": "execute_result"
    }
   ],
   "source": [
    "df.shape"
   ]
  },
  {
   "cell_type": "code",
   "execution_count": 4,
   "metadata": {
    "colab": {
     "base_uri": "https://localhost:8080/",
     "height": 203
    },
    "id": "Jbz8sMFN5C-d",
    "outputId": "002d3b9f-ea83-4746-903c-fd0d2e9879ab"
   },
   "outputs": [
    {
     "data": {
      "text/html": [
       "<div>\n",
       "<style scoped>\n",
       "    .dataframe tbody tr th:only-of-type {\n",
       "        vertical-align: middle;\n",
       "    }\n",
       "\n",
       "    .dataframe tbody tr th {\n",
       "        vertical-align: top;\n",
       "    }\n",
       "\n",
       "    .dataframe thead th {\n",
       "        text-align: right;\n",
       "    }\n",
       "</style>\n",
       "<table border=\"1\" class=\"dataframe\">\n",
       "  <thead>\n",
       "    <tr style=\"text-align: right;\">\n",
       "      <th></th>\n",
       "      <th>timestamp</th>\n",
       "      <th>value</th>\n",
       "    </tr>\n",
       "  </thead>\n",
       "  <tbody>\n",
       "    <tr>\n",
       "      <th>0</th>\n",
       "      <td>2014-07-01 00:00:00</td>\n",
       "      <td>10844</td>\n",
       "    </tr>\n",
       "    <tr>\n",
       "      <th>1</th>\n",
       "      <td>2014-07-01 00:30:00</td>\n",
       "      <td>8127</td>\n",
       "    </tr>\n",
       "    <tr>\n",
       "      <th>2</th>\n",
       "      <td>2014-07-01 01:00:00</td>\n",
       "      <td>6210</td>\n",
       "    </tr>\n",
       "    <tr>\n",
       "      <th>3</th>\n",
       "      <td>2014-07-01 01:30:00</td>\n",
       "      <td>4656</td>\n",
       "    </tr>\n",
       "    <tr>\n",
       "      <th>4</th>\n",
       "      <td>2014-07-01 02:00:00</td>\n",
       "      <td>3820</td>\n",
       "    </tr>\n",
       "  </tbody>\n",
       "</table>\n",
       "</div>"
      ],
      "text/plain": [
       "            timestamp  value\n",
       "0 2014-07-01 00:00:00  10844\n",
       "1 2014-07-01 00:30:00   8127\n",
       "2 2014-07-01 01:00:00   6210\n",
       "3 2014-07-01 01:30:00   4656\n",
       "4 2014-07-01 02:00:00   3820"
      ]
     },
     "execution_count": 4,
     "metadata": {},
     "output_type": "execute_result"
    }
   ],
   "source": [
    "# Convert the timestamp string to datetime datatype (year, month, day, hour)\n",
    "df['timestamp'] = pd.to_datetime(df['timestamp'])\n",
    "df.head()"
   ]
  },
  {
   "cell_type": "code",
   "execution_count": 5,
   "metadata": {
    "colab": {
     "base_uri": "https://localhost:8080/",
     "height": 203
    },
    "id": "29EWU7u-5D_E",
    "outputId": "d7dd1cb0-8544-4234-ca8a-81004812727b"
   },
   "outputs": [
    {
     "data": {
      "text/html": [
       "<div>\n",
       "<style scoped>\n",
       "    .dataframe tbody tr th:only-of-type {\n",
       "        vertical-align: middle;\n",
       "    }\n",
       "\n",
       "    .dataframe tbody tr th {\n",
       "        vertical-align: top;\n",
       "    }\n",
       "\n",
       "    .dataframe thead th {\n",
       "        text-align: right;\n",
       "    }\n",
       "</style>\n",
       "<table border=\"1\" class=\"dataframe\">\n",
       "  <thead>\n",
       "    <tr style=\"text-align: right;\">\n",
       "      <th></th>\n",
       "      <th>timestamp</th>\n",
       "      <th>value</th>\n",
       "      <th>Year</th>\n",
       "      <th>Month</th>\n",
       "      <th>Day</th>\n",
       "      <th>Hour</th>\n",
       "    </tr>\n",
       "  </thead>\n",
       "  <tbody>\n",
       "    <tr>\n",
       "      <th>0</th>\n",
       "      <td>2014-07-01 00:00:00</td>\n",
       "      <td>10844</td>\n",
       "      <td>2014</td>\n",
       "      <td>7</td>\n",
       "      <td>1</td>\n",
       "      <td>0</td>\n",
       "    </tr>\n",
       "    <tr>\n",
       "      <th>1</th>\n",
       "      <td>2014-07-01 00:30:00</td>\n",
       "      <td>8127</td>\n",
       "      <td>2014</td>\n",
       "      <td>7</td>\n",
       "      <td>1</td>\n",
       "      <td>0</td>\n",
       "    </tr>\n",
       "    <tr>\n",
       "      <th>2</th>\n",
       "      <td>2014-07-01 01:00:00</td>\n",
       "      <td>6210</td>\n",
       "      <td>2014</td>\n",
       "      <td>7</td>\n",
       "      <td>1</td>\n",
       "      <td>1</td>\n",
       "    </tr>\n",
       "    <tr>\n",
       "      <th>3</th>\n",
       "      <td>2014-07-01 01:30:00</td>\n",
       "      <td>4656</td>\n",
       "      <td>2014</td>\n",
       "      <td>7</td>\n",
       "      <td>1</td>\n",
       "      <td>1</td>\n",
       "    </tr>\n",
       "    <tr>\n",
       "      <th>4</th>\n",
       "      <td>2014-07-01 02:00:00</td>\n",
       "      <td>3820</td>\n",
       "      <td>2014</td>\n",
       "      <td>7</td>\n",
       "      <td>1</td>\n",
       "      <td>2</td>\n",
       "    </tr>\n",
       "  </tbody>\n",
       "</table>\n",
       "</div>"
      ],
      "text/plain": [
       "            timestamp  value  Year  Month  Day  Hour\n",
       "0 2014-07-01 00:00:00  10844  2014      7    1     0\n",
       "1 2014-07-01 00:30:00   8127  2014      7    1     0\n",
       "2 2014-07-01 01:00:00   6210  2014      7    1     1\n",
       "3 2014-07-01 01:30:00   4656  2014      7    1     1\n",
       "4 2014-07-01 02:00:00   3820  2014      7    1     2"
      ]
     },
     "execution_count": 5,
     "metadata": {},
     "output_type": "execute_result"
    }
   ],
   "source": [
    "# Setperating the timestamp columns into seperate columns\n",
    "df['Year'] = df.timestamp.dt.year\n",
    "df['Month'] = df.timestamp.dt.month\n",
    "df['Day'] = df.timestamp.dt.day\n",
    "df['Hour'] = df.timestamp.dt.hour\n",
    "df.head()"
   ]
  },
  {
   "cell_type": "code",
   "execution_count": 6,
   "metadata": {
    "colab": {
     "base_uri": "https://localhost:8080/"
    },
    "id": "trv1Mm8S5FOk",
    "outputId": "83c8217a-9571-4a20-e3ef-a70dff1d8595"
   },
   "outputs": [
    {
     "name": "stdout",
     "output_type": "stream",
     "text": [
      "Unique number of years:  [2014 2015]\n",
      "Unique number of months:  [ 7  8  9 10 11 12  1]\n",
      "Unique number of days:  [ 1  2  3  4  5  6  7  8  9 10 11 12 13 14 15 16 17 18 19 20 21 22 23 24\n",
      " 25 26 27 28 29 30 31]\n",
      "Unique number of hours:  [ 0  1  2  3  4  5  6  7  8  9 10 11 12 13 14 15 16 17 18 19 20 21 22 23]\n"
     ]
    }
   ],
   "source": [
    "# Checking the unique values available in each column\n",
    "print('Unique number of years: ', df.Year.unique())\n",
    "print('Unique number of months: ', df.Month.unique())\n",
    "print('Unique number of days: ', df.Day.unique())\n",
    "print('Unique number of hours: ', df.Hour.unique())"
   ]
  },
  {
   "cell_type": "code",
   "execution_count": 7,
   "metadata": {
    "colab": {
     "base_uri": "https://localhost:8080/"
    },
    "id": "SCCSO4HH5GpM",
    "outputId": "af317373-8329-4e4d-e8a6-3959f771a86d"
   },
   "outputs": [
    {
     "data": {
      "text/plain": [
       "15137.569379844961"
      ]
     },
     "execution_count": 7,
     "metadata": {},
     "output_type": "execute_result"
    }
   ],
   "source": [
    "df['value'].mean()"
   ]
  },
  {
   "cell_type": "code",
   "execution_count": 8,
   "metadata": {
    "colab": {
     "base_uri": "https://localhost:8080/",
     "height": 350
    },
    "id": "zZ2w7ZAo5IBD",
    "outputId": "c7bad780-257c-4c3b-d9ab-4b2fe67c3f6c"
   },
   "outputs": [],
   "source": [
    "# fig, ax = plt.subplots(figsize=(12, 5))\n",
    "# ax.plot(df.iloc[0:7344]['timestamp'], df.iloc[0:7344]['value'])\n",
    "# ax.set_title('NYC Taxi Demand')\n",
    "# plt.xlabel('timestamp')\n",
    "# plt.ylabel('The Number passengers')\n",
    "# plt.show()"
   ]
  },
  {
   "cell_type": "code",
   "execution_count": 9,
   "metadata": {
    "colab": {
     "base_uri": "https://localhost:8080/",
     "height": 417
    },
    "id": "VnYj-f2D5JYc",
    "outputId": "9c82fd0c-c592-4c65-c075-1dd418bc71b4"
   },
   "outputs": [],
   "source": [
    "# # Plotting a sample of the data\n",
    "# # July, 2014 ~ November 2014\n",
    "# df.iloc[0:7344,:].plot(y='value', x='timestamp', figsize=(15,6))"
   ]
  },
  {
   "cell_type": "code",
   "execution_count": 10,
   "metadata": {
    "colab": {
     "base_uri": "https://localhost:8080/"
    },
    "id": "ixHQRQTU5Khs",
    "outputId": "137a1db6-871e-4338-9580-2e7908bc3592"
   },
   "outputs": [
    {
     "data": {
      "text/plain": [
       "(10320, 6)"
      ]
     },
     "execution_count": 10,
     "metadata": {},
     "output_type": "execute_result"
    }
   ],
   "source": [
    "df.shape"
   ]
  },
  {
   "cell_type": "code",
   "execution_count": 11,
   "metadata": {
    "colab": {
     "base_uri": "https://localhost:8080/",
     "height": 440
    },
    "id": "dMnz-zPC5LwF",
    "outputId": "805fd232-f6a9-47fb-b59a-9142d97d3f43"
   },
   "outputs": [],
   "source": [
    "# # Plotting a sample of the data\n",
    "# # December, 2014 ~ January 201\n",
    "# df.iloc[7344:10320,:].plot(y='value', x='timestamp', figsize=(15,6))"
   ]
  },
  {
   "cell_type": "code",
   "execution_count": 12,
   "metadata": {
    "colab": {
     "base_uri": "https://localhost:8080/",
     "height": 428
    },
    "id": "KMfA8YrS5NMz",
    "outputId": "04a7a4e5-f92e-46fb-bd14-b54dcc199d26"
   },
   "outputs": [],
   "source": [
    "# # December 24 ~ December 25\n",
    "# df.iloc[8448:8544,:].plot(y='value', x='timestamp', figsize=(15,6))"
   ]
  },
  {
   "cell_type": "code",
   "execution_count": 13,
   "metadata": {
    "colab": {
     "base_uri": "https://localhost:8080/",
     "height": 1000
    },
    "id": "4402e4835Ov0",
    "outputId": "779577bf-23d0-4b97-a01b-1bf6e31c604c"
   },
   "outputs": [
    {
     "data": {
      "text/html": [
       "<div>\n",
       "<style scoped>\n",
       "    .dataframe tbody tr th:only-of-type {\n",
       "        vertical-align: middle;\n",
       "    }\n",
       "\n",
       "    .dataframe tbody tr th {\n",
       "        vertical-align: top;\n",
       "    }\n",
       "\n",
       "    .dataframe thead th {\n",
       "        text-align: right;\n",
       "    }\n",
       "</style>\n",
       "<table border=\"1\" class=\"dataframe\">\n",
       "  <thead>\n",
       "    <tr style=\"text-align: right;\">\n",
       "      <th></th>\n",
       "      <th>timestamp</th>\n",
       "      <th>value</th>\n",
       "      <th>Year</th>\n",
       "      <th>Month</th>\n",
       "      <th>Day</th>\n",
       "      <th>Hour</th>\n",
       "    </tr>\n",
       "  </thead>\n",
       "  <tbody>\n",
       "    <tr>\n",
       "      <th>0</th>\n",
       "      <td>2014-07-01 00:00:00</td>\n",
       "      <td>10844</td>\n",
       "      <td>2014</td>\n",
       "      <td>7</td>\n",
       "      <td>1</td>\n",
       "      <td>0</td>\n",
       "    </tr>\n",
       "    <tr>\n",
       "      <th>1</th>\n",
       "      <td>2014-07-01 00:30:00</td>\n",
       "      <td>8127</td>\n",
       "      <td>2014</td>\n",
       "      <td>7</td>\n",
       "      <td>1</td>\n",
       "      <td>0</td>\n",
       "    </tr>\n",
       "    <tr>\n",
       "      <th>2</th>\n",
       "      <td>2014-07-01 01:00:00</td>\n",
       "      <td>6210</td>\n",
       "      <td>2014</td>\n",
       "      <td>7</td>\n",
       "      <td>1</td>\n",
       "      <td>1</td>\n",
       "    </tr>\n",
       "    <tr>\n",
       "      <th>3</th>\n",
       "      <td>2014-07-01 01:30:00</td>\n",
       "      <td>4656</td>\n",
       "      <td>2014</td>\n",
       "      <td>7</td>\n",
       "      <td>1</td>\n",
       "      <td>1</td>\n",
       "    </tr>\n",
       "    <tr>\n",
       "      <th>4</th>\n",
       "      <td>2014-07-01 02:00:00</td>\n",
       "      <td>3820</td>\n",
       "      <td>2014</td>\n",
       "      <td>7</td>\n",
       "      <td>1</td>\n",
       "      <td>2</td>\n",
       "    </tr>\n",
       "    <tr>\n",
       "      <th>5</th>\n",
       "      <td>2014-07-01 02:30:00</td>\n",
       "      <td>2873</td>\n",
       "      <td>2014</td>\n",
       "      <td>7</td>\n",
       "      <td>1</td>\n",
       "      <td>2</td>\n",
       "    </tr>\n",
       "    <tr>\n",
       "      <th>6</th>\n",
       "      <td>2014-07-01 03:00:00</td>\n",
       "      <td>2369</td>\n",
       "      <td>2014</td>\n",
       "      <td>7</td>\n",
       "      <td>1</td>\n",
       "      <td>3</td>\n",
       "    </tr>\n",
       "    <tr>\n",
       "      <th>7</th>\n",
       "      <td>2014-07-01 03:30:00</td>\n",
       "      <td>2064</td>\n",
       "      <td>2014</td>\n",
       "      <td>7</td>\n",
       "      <td>1</td>\n",
       "      <td>3</td>\n",
       "    </tr>\n",
       "    <tr>\n",
       "      <th>8</th>\n",
       "      <td>2014-07-01 04:00:00</td>\n",
       "      <td>2221</td>\n",
       "      <td>2014</td>\n",
       "      <td>7</td>\n",
       "      <td>1</td>\n",
       "      <td>4</td>\n",
       "    </tr>\n",
       "    <tr>\n",
       "      <th>9</th>\n",
       "      <td>2014-07-01 04:30:00</td>\n",
       "      <td>2158</td>\n",
       "      <td>2014</td>\n",
       "      <td>7</td>\n",
       "      <td>1</td>\n",
       "      <td>4</td>\n",
       "    </tr>\n",
       "    <tr>\n",
       "      <th>10</th>\n",
       "      <td>2014-07-01 05:00:00</td>\n",
       "      <td>2515</td>\n",
       "      <td>2014</td>\n",
       "      <td>7</td>\n",
       "      <td>1</td>\n",
       "      <td>5</td>\n",
       "    </tr>\n",
       "    <tr>\n",
       "      <th>11</th>\n",
       "      <td>2014-07-01 05:30:00</td>\n",
       "      <td>4364</td>\n",
       "      <td>2014</td>\n",
       "      <td>7</td>\n",
       "      <td>1</td>\n",
       "      <td>5</td>\n",
       "    </tr>\n",
       "    <tr>\n",
       "      <th>12</th>\n",
       "      <td>2014-07-01 06:00:00</td>\n",
       "      <td>6526</td>\n",
       "      <td>2014</td>\n",
       "      <td>7</td>\n",
       "      <td>1</td>\n",
       "      <td>6</td>\n",
       "    </tr>\n",
       "    <tr>\n",
       "      <th>13</th>\n",
       "      <td>2014-07-01 06:30:00</td>\n",
       "      <td>11039</td>\n",
       "      <td>2014</td>\n",
       "      <td>7</td>\n",
       "      <td>1</td>\n",
       "      <td>6</td>\n",
       "    </tr>\n",
       "    <tr>\n",
       "      <th>14</th>\n",
       "      <td>2014-07-01 07:00:00</td>\n",
       "      <td>13857</td>\n",
       "      <td>2014</td>\n",
       "      <td>7</td>\n",
       "      <td>1</td>\n",
       "      <td>7</td>\n",
       "    </tr>\n",
       "    <tr>\n",
       "      <th>15</th>\n",
       "      <td>2014-07-01 07:30:00</td>\n",
       "      <td>15865</td>\n",
       "      <td>2014</td>\n",
       "      <td>7</td>\n",
       "      <td>1</td>\n",
       "      <td>7</td>\n",
       "    </tr>\n",
       "    <tr>\n",
       "      <th>16</th>\n",
       "      <td>2014-07-01 08:00:00</td>\n",
       "      <td>17920</td>\n",
       "      <td>2014</td>\n",
       "      <td>7</td>\n",
       "      <td>1</td>\n",
       "      <td>8</td>\n",
       "    </tr>\n",
       "    <tr>\n",
       "      <th>17</th>\n",
       "      <td>2014-07-01 08:30:00</td>\n",
       "      <td>20346</td>\n",
       "      <td>2014</td>\n",
       "      <td>7</td>\n",
       "      <td>1</td>\n",
       "      <td>8</td>\n",
       "    </tr>\n",
       "    <tr>\n",
       "      <th>18</th>\n",
       "      <td>2014-07-01 09:00:00</td>\n",
       "      <td>19539</td>\n",
       "      <td>2014</td>\n",
       "      <td>7</td>\n",
       "      <td>1</td>\n",
       "      <td>9</td>\n",
       "    </tr>\n",
       "    <tr>\n",
       "      <th>19</th>\n",
       "      <td>2014-07-01 09:30:00</td>\n",
       "      <td>20107</td>\n",
       "      <td>2014</td>\n",
       "      <td>7</td>\n",
       "      <td>1</td>\n",
       "      <td>9</td>\n",
       "    </tr>\n",
       "    <tr>\n",
       "      <th>20</th>\n",
       "      <td>2014-07-01 10:00:00</td>\n",
       "      <td>18984</td>\n",
       "      <td>2014</td>\n",
       "      <td>7</td>\n",
       "      <td>1</td>\n",
       "      <td>10</td>\n",
       "    </tr>\n",
       "    <tr>\n",
       "      <th>21</th>\n",
       "      <td>2014-07-01 10:30:00</td>\n",
       "      <td>17720</td>\n",
       "      <td>2014</td>\n",
       "      <td>7</td>\n",
       "      <td>1</td>\n",
       "      <td>10</td>\n",
       "    </tr>\n",
       "    <tr>\n",
       "      <th>22</th>\n",
       "      <td>2014-07-01 11:00:00</td>\n",
       "      <td>17249</td>\n",
       "      <td>2014</td>\n",
       "      <td>7</td>\n",
       "      <td>1</td>\n",
       "      <td>11</td>\n",
       "    </tr>\n",
       "    <tr>\n",
       "      <th>23</th>\n",
       "      <td>2014-07-01 11:30:00</td>\n",
       "      <td>18463</td>\n",
       "      <td>2014</td>\n",
       "      <td>7</td>\n",
       "      <td>1</td>\n",
       "      <td>11</td>\n",
       "    </tr>\n",
       "    <tr>\n",
       "      <th>24</th>\n",
       "      <td>2014-07-01 12:00:00</td>\n",
       "      <td>18908</td>\n",
       "      <td>2014</td>\n",
       "      <td>7</td>\n",
       "      <td>1</td>\n",
       "      <td>12</td>\n",
       "    </tr>\n",
       "    <tr>\n",
       "      <th>25</th>\n",
       "      <td>2014-07-01 12:30:00</td>\n",
       "      <td>18886</td>\n",
       "      <td>2014</td>\n",
       "      <td>7</td>\n",
       "      <td>1</td>\n",
       "      <td>12</td>\n",
       "    </tr>\n",
       "    <tr>\n",
       "      <th>26</th>\n",
       "      <td>2014-07-01 13:00:00</td>\n",
       "      <td>18178</td>\n",
       "      <td>2014</td>\n",
       "      <td>7</td>\n",
       "      <td>1</td>\n",
       "      <td>13</td>\n",
       "    </tr>\n",
       "    <tr>\n",
       "      <th>27</th>\n",
       "      <td>2014-07-01 13:30:00</td>\n",
       "      <td>19459</td>\n",
       "      <td>2014</td>\n",
       "      <td>7</td>\n",
       "      <td>1</td>\n",
       "      <td>13</td>\n",
       "    </tr>\n",
       "    <tr>\n",
       "      <th>28</th>\n",
       "      <td>2014-07-01 14:00:00</td>\n",
       "      <td>19546</td>\n",
       "      <td>2014</td>\n",
       "      <td>7</td>\n",
       "      <td>1</td>\n",
       "      <td>14</td>\n",
       "    </tr>\n",
       "    <tr>\n",
       "      <th>29</th>\n",
       "      <td>2014-07-01 14:30:00</td>\n",
       "      <td>20591</td>\n",
       "      <td>2014</td>\n",
       "      <td>7</td>\n",
       "      <td>1</td>\n",
       "      <td>14</td>\n",
       "    </tr>\n",
       "    <tr>\n",
       "      <th>30</th>\n",
       "      <td>2014-07-01 15:00:00</td>\n",
       "      <td>19380</td>\n",
       "      <td>2014</td>\n",
       "      <td>7</td>\n",
       "      <td>1</td>\n",
       "      <td>15</td>\n",
       "    </tr>\n",
       "    <tr>\n",
       "      <th>31</th>\n",
       "      <td>2014-07-01 15:30:00</td>\n",
       "      <td>18544</td>\n",
       "      <td>2014</td>\n",
       "      <td>7</td>\n",
       "      <td>1</td>\n",
       "      <td>15</td>\n",
       "    </tr>\n",
       "    <tr>\n",
       "      <th>32</th>\n",
       "      <td>2014-07-01 16:00:00</td>\n",
       "      <td>16228</td>\n",
       "      <td>2014</td>\n",
       "      <td>7</td>\n",
       "      <td>1</td>\n",
       "      <td>16</td>\n",
       "    </tr>\n",
       "    <tr>\n",
       "      <th>33</th>\n",
       "      <td>2014-07-01 16:30:00</td>\n",
       "      <td>15013</td>\n",
       "      <td>2014</td>\n",
       "      <td>7</td>\n",
       "      <td>1</td>\n",
       "      <td>16</td>\n",
       "    </tr>\n",
       "    <tr>\n",
       "      <th>34</th>\n",
       "      <td>2014-07-01 17:00:00</td>\n",
       "      <td>17203</td>\n",
       "      <td>2014</td>\n",
       "      <td>7</td>\n",
       "      <td>1</td>\n",
       "      <td>17</td>\n",
       "    </tr>\n",
       "    <tr>\n",
       "      <th>35</th>\n",
       "      <td>2014-07-01 17:30:00</td>\n",
       "      <td>19525</td>\n",
       "      <td>2014</td>\n",
       "      <td>7</td>\n",
       "      <td>1</td>\n",
       "      <td>17</td>\n",
       "    </tr>\n",
       "    <tr>\n",
       "      <th>36</th>\n",
       "      <td>2014-07-01 18:00:00</td>\n",
       "      <td>22966</td>\n",
       "      <td>2014</td>\n",
       "      <td>7</td>\n",
       "      <td>1</td>\n",
       "      <td>18</td>\n",
       "    </tr>\n",
       "    <tr>\n",
       "      <th>37</th>\n",
       "      <td>2014-07-01 18:30:00</td>\n",
       "      <td>27598</td>\n",
       "      <td>2014</td>\n",
       "      <td>7</td>\n",
       "      <td>1</td>\n",
       "      <td>18</td>\n",
       "    </tr>\n",
       "    <tr>\n",
       "      <th>38</th>\n",
       "      <td>2014-07-01 19:00:00</td>\n",
       "      <td>26827</td>\n",
       "      <td>2014</td>\n",
       "      <td>7</td>\n",
       "      <td>1</td>\n",
       "      <td>19</td>\n",
       "    </tr>\n",
       "    <tr>\n",
       "      <th>39</th>\n",
       "      <td>2014-07-01 19:30:00</td>\n",
       "      <td>24904</td>\n",
       "      <td>2014</td>\n",
       "      <td>7</td>\n",
       "      <td>1</td>\n",
       "      <td>19</td>\n",
       "    </tr>\n",
       "    <tr>\n",
       "      <th>40</th>\n",
       "      <td>2014-07-01 20:00:00</td>\n",
       "      <td>22875</td>\n",
       "      <td>2014</td>\n",
       "      <td>7</td>\n",
       "      <td>1</td>\n",
       "      <td>20</td>\n",
       "    </tr>\n",
       "    <tr>\n",
       "      <th>41</th>\n",
       "      <td>2014-07-01 20:30:00</td>\n",
       "      <td>20394</td>\n",
       "      <td>2014</td>\n",
       "      <td>7</td>\n",
       "      <td>1</td>\n",
       "      <td>20</td>\n",
       "    </tr>\n",
       "    <tr>\n",
       "      <th>42</th>\n",
       "      <td>2014-07-01 21:00:00</td>\n",
       "      <td>23401</td>\n",
       "      <td>2014</td>\n",
       "      <td>7</td>\n",
       "      <td>1</td>\n",
       "      <td>21</td>\n",
       "    </tr>\n",
       "    <tr>\n",
       "      <th>43</th>\n",
       "      <td>2014-07-01 21:30:00</td>\n",
       "      <td>24439</td>\n",
       "      <td>2014</td>\n",
       "      <td>7</td>\n",
       "      <td>1</td>\n",
       "      <td>21</td>\n",
       "    </tr>\n",
       "    <tr>\n",
       "      <th>44</th>\n",
       "      <td>2014-07-01 22:00:00</td>\n",
       "      <td>23318</td>\n",
       "      <td>2014</td>\n",
       "      <td>7</td>\n",
       "      <td>1</td>\n",
       "      <td>22</td>\n",
       "    </tr>\n",
       "    <tr>\n",
       "      <th>45</th>\n",
       "      <td>2014-07-01 22:30:00</td>\n",
       "      <td>21733</td>\n",
       "      <td>2014</td>\n",
       "      <td>7</td>\n",
       "      <td>1</td>\n",
       "      <td>22</td>\n",
       "    </tr>\n",
       "    <tr>\n",
       "      <th>46</th>\n",
       "      <td>2014-07-01 23:00:00</td>\n",
       "      <td>20104</td>\n",
       "      <td>2014</td>\n",
       "      <td>7</td>\n",
       "      <td>1</td>\n",
       "      <td>23</td>\n",
       "    </tr>\n",
       "    <tr>\n",
       "      <th>47</th>\n",
       "      <td>2014-07-01 23:30:00</td>\n",
       "      <td>16111</td>\n",
       "      <td>2014</td>\n",
       "      <td>7</td>\n",
       "      <td>1</td>\n",
       "      <td>23</td>\n",
       "    </tr>\n",
       "  </tbody>\n",
       "</table>\n",
       "</div>"
      ],
      "text/plain": [
       "             timestamp  value  Year  Month  Day  Hour\n",
       "0  2014-07-01 00:00:00  10844  2014      7    1     0\n",
       "1  2014-07-01 00:30:00   8127  2014      7    1     0\n",
       "2  2014-07-01 01:00:00   6210  2014      7    1     1\n",
       "3  2014-07-01 01:30:00   4656  2014      7    1     1\n",
       "4  2014-07-01 02:00:00   3820  2014      7    1     2\n",
       "5  2014-07-01 02:30:00   2873  2014      7    1     2\n",
       "6  2014-07-01 03:00:00   2369  2014      7    1     3\n",
       "7  2014-07-01 03:30:00   2064  2014      7    1     3\n",
       "8  2014-07-01 04:00:00   2221  2014      7    1     4\n",
       "9  2014-07-01 04:30:00   2158  2014      7    1     4\n",
       "10 2014-07-01 05:00:00   2515  2014      7    1     5\n",
       "11 2014-07-01 05:30:00   4364  2014      7    1     5\n",
       "12 2014-07-01 06:00:00   6526  2014      7    1     6\n",
       "13 2014-07-01 06:30:00  11039  2014      7    1     6\n",
       "14 2014-07-01 07:00:00  13857  2014      7    1     7\n",
       "15 2014-07-01 07:30:00  15865  2014      7    1     7\n",
       "16 2014-07-01 08:00:00  17920  2014      7    1     8\n",
       "17 2014-07-01 08:30:00  20346  2014      7    1     8\n",
       "18 2014-07-01 09:00:00  19539  2014      7    1     9\n",
       "19 2014-07-01 09:30:00  20107  2014      7    1     9\n",
       "20 2014-07-01 10:00:00  18984  2014      7    1    10\n",
       "21 2014-07-01 10:30:00  17720  2014      7    1    10\n",
       "22 2014-07-01 11:00:00  17249  2014      7    1    11\n",
       "23 2014-07-01 11:30:00  18463  2014      7    1    11\n",
       "24 2014-07-01 12:00:00  18908  2014      7    1    12\n",
       "25 2014-07-01 12:30:00  18886  2014      7    1    12\n",
       "26 2014-07-01 13:00:00  18178  2014      7    1    13\n",
       "27 2014-07-01 13:30:00  19459  2014      7    1    13\n",
       "28 2014-07-01 14:00:00  19546  2014      7    1    14\n",
       "29 2014-07-01 14:30:00  20591  2014      7    1    14\n",
       "30 2014-07-01 15:00:00  19380  2014      7    1    15\n",
       "31 2014-07-01 15:30:00  18544  2014      7    1    15\n",
       "32 2014-07-01 16:00:00  16228  2014      7    1    16\n",
       "33 2014-07-01 16:30:00  15013  2014      7    1    16\n",
       "34 2014-07-01 17:00:00  17203  2014      7    1    17\n",
       "35 2014-07-01 17:30:00  19525  2014      7    1    17\n",
       "36 2014-07-01 18:00:00  22966  2014      7    1    18\n",
       "37 2014-07-01 18:30:00  27598  2014      7    1    18\n",
       "38 2014-07-01 19:00:00  26827  2014      7    1    19\n",
       "39 2014-07-01 19:30:00  24904  2014      7    1    19\n",
       "40 2014-07-01 20:00:00  22875  2014      7    1    20\n",
       "41 2014-07-01 20:30:00  20394  2014      7    1    20\n",
       "42 2014-07-01 21:00:00  23401  2014      7    1    21\n",
       "43 2014-07-01 21:30:00  24439  2014      7    1    21\n",
       "44 2014-07-01 22:00:00  23318  2014      7    1    22\n",
       "45 2014-07-01 22:30:00  21733  2014      7    1    22\n",
       "46 2014-07-01 23:00:00  20104  2014      7    1    23\n",
       "47 2014-07-01 23:30:00  16111  2014      7    1    23"
      ]
     },
     "execution_count": 13,
     "metadata": {},
     "output_type": "execute_result"
    }
   ],
   "source": [
    "# Number of readings per day\n",
    "df[(df['Day'] == 1) & (df['Month'] == 7) & (df['Year'] == 2014)]"
   ]
  },
  {
   "cell_type": "code",
   "execution_count": 14,
   "metadata": {
    "colab": {
     "base_uri": "https://localhost:8080/",
     "height": 442
    },
    "id": "0J0li-LS5QGs",
    "outputId": "fa96d5bf-d892-4ae6-f931-34c153d43543"
   },
   "outputs": [],
   "source": [
    "# # Autocorrelation in timeseries (Weeks)\n",
    "# # The correlation coefficient is a measure of the linear correlation between two variables.\n",
    "# # 48 read per day per 7 days a week\n",
    "# timeLags = np.arange(1,48*7)\n",
    "# autoCorr = [df.value.autocorr(lag=dt) for dt in timeLags]\n",
    "# plt.figure(figsize=(17,7))\n",
    "# plt.plot(1.0/(48*7)*timeLags, autoCorr);\n",
    "# plt.xlabel('Time lag in weeks'); plt.ylabel('Correlation Coeff', fontsize=12);"
   ]
  },
  {
   "cell_type": "markdown",
   "metadata": {
    "id": "vtYlCLlN5RtM"
   },
   "source": [
    "# Featurization\n",
    "\n",
    "We have created new columns from timestamp. We can also generate additional new features from the timestamp.\n",
    "\n",
    "* Adding day of a week in addition to the day of a month\n",
    "* The average of rides per a particular hour for the same day of the week.\n",
    "* Number of rides during the day and during the night."
   ]
  },
  {
   "cell_type": "code",
   "execution_count": 15,
   "metadata": {
    "id": "RQsSrZ515Vut"
   },
   "outputs": [],
   "source": [
    "# (1) Adding day of the week.\n",
    "df['Weekday'] = df.timestamp.dt.weekday"
   ]
  },
  {
   "cell_type": "code",
   "execution_count": 16,
   "metadata": {
    "colab": {
     "base_uri": "https://localhost:8080/",
     "height": 142
    },
    "id": "IjRJQjn-5XVE",
    "outputId": "704c5ecd-f6af-4a89-8e77-1114613d62d4"
   },
   "outputs": [
    {
     "data": {
      "text/html": [
       "<div>\n",
       "<style scoped>\n",
       "    .dataframe tbody tr th:only-of-type {\n",
       "        vertical-align: middle;\n",
       "    }\n",
       "\n",
       "    .dataframe tbody tr th {\n",
       "        vertical-align: top;\n",
       "    }\n",
       "\n",
       "    .dataframe thead th {\n",
       "        text-align: right;\n",
       "    }\n",
       "</style>\n",
       "<table border=\"1\" class=\"dataframe\">\n",
       "  <thead>\n",
       "    <tr style=\"text-align: right;\">\n",
       "      <th></th>\n",
       "      <th>timestamp</th>\n",
       "      <th>value</th>\n",
       "      <th>Year</th>\n",
       "      <th>Month</th>\n",
       "      <th>Day</th>\n",
       "      <th>Hour</th>\n",
       "      <th>Weekday</th>\n",
       "    </tr>\n",
       "  </thead>\n",
       "  <tbody>\n",
       "    <tr>\n",
       "      <th>0</th>\n",
       "      <td>2014-07-01 00:00:00</td>\n",
       "      <td>10844</td>\n",
       "      <td>2014</td>\n",
       "      <td>7</td>\n",
       "      <td>1</td>\n",
       "      <td>0</td>\n",
       "      <td>1</td>\n",
       "    </tr>\n",
       "    <tr>\n",
       "      <th>1</th>\n",
       "      <td>2014-07-01 00:30:00</td>\n",
       "      <td>8127</td>\n",
       "      <td>2014</td>\n",
       "      <td>7</td>\n",
       "      <td>1</td>\n",
       "      <td>0</td>\n",
       "      <td>1</td>\n",
       "    </tr>\n",
       "    <tr>\n",
       "      <th>2</th>\n",
       "      <td>2014-07-01 01:00:00</td>\n",
       "      <td>6210</td>\n",
       "      <td>2014</td>\n",
       "      <td>7</td>\n",
       "      <td>1</td>\n",
       "      <td>1</td>\n",
       "      <td>1</td>\n",
       "    </tr>\n",
       "  </tbody>\n",
       "</table>\n",
       "</div>"
      ],
      "text/plain": [
       "            timestamp  value  Year  Month  Day  Hour  Weekday\n",
       "0 2014-07-01 00:00:00  10844  2014      7    1     0        1\n",
       "1 2014-07-01 00:30:00   8127  2014      7    1     0        1\n",
       "2 2014-07-01 01:00:00   6210  2014      7    1     1        1"
      ]
     },
     "execution_count": 16,
     "metadata": {},
     "output_type": "execute_result"
    }
   ],
   "source": [
    "df.head(3)"
   ]
  },
  {
   "cell_type": "code",
   "execution_count": 17,
   "metadata": {
    "colab": {
     "base_uri": "https://localhost:8080/"
    },
    "id": "DpPKv2uZ5Yf9",
    "outputId": "5b030f07-ae31-4b21-d44a-7a4208f36c5b"
   },
   "outputs": [
    {
     "data": {
      "text/plain": [
       "168"
      ]
     },
     "execution_count": 17,
     "metadata": {},
     "output_type": "execute_result"
    }
   ],
   "source": [
    "# (2) Adding the average of rides grouped by the weekday and hour\n",
    "# 7 Days, 24 Hours = 168 values\n",
    "len(df[:7344].groupby(df.Weekday.astype(str) + ' ' + df.Hour.astype(str))['value'].mean().to_dict())"
   ]
  },
  {
   "cell_type": "code",
   "execution_count": 18,
   "metadata": {
    "colab": {
     "base_uri": "https://localhost:8080/",
     "height": 142
    },
    "id": "SPIKXBVr5Z1s",
    "outputId": "43ce23aa-22fc-49fb-df25-79fd6a3f9821"
   },
   "outputs": [
    {
     "data": {
      "text/html": [
       "<div>\n",
       "<style scoped>\n",
       "    .dataframe tbody tr th:only-of-type {\n",
       "        vertical-align: middle;\n",
       "    }\n",
       "\n",
       "    .dataframe tbody tr th {\n",
       "        vertical-align: top;\n",
       "    }\n",
       "\n",
       "    .dataframe thead th {\n",
       "        text-align: right;\n",
       "    }\n",
       "</style>\n",
       "<table border=\"1\" class=\"dataframe\">\n",
       "  <thead>\n",
       "    <tr style=\"text-align: right;\">\n",
       "      <th></th>\n",
       "      <th>timestamp</th>\n",
       "      <th>value</th>\n",
       "      <th>Year</th>\n",
       "      <th>Month</th>\n",
       "      <th>Day</th>\n",
       "      <th>Hour</th>\n",
       "      <th>Weekday</th>\n",
       "      <th>avg_hour_day</th>\n",
       "    </tr>\n",
       "  </thead>\n",
       "  <tbody>\n",
       "    <tr>\n",
       "      <th>0</th>\n",
       "      <td>2014-07-01 00:00:00</td>\n",
       "      <td>10844</td>\n",
       "      <td>2014</td>\n",
       "      <td>7</td>\n",
       "      <td>1</td>\n",
       "      <td>0</td>\n",
       "      <td>1</td>\n",
       "      <td>1 0</td>\n",
       "    </tr>\n",
       "    <tr>\n",
       "      <th>1</th>\n",
       "      <td>2014-07-01 00:30:00</td>\n",
       "      <td>8127</td>\n",
       "      <td>2014</td>\n",
       "      <td>7</td>\n",
       "      <td>1</td>\n",
       "      <td>0</td>\n",
       "      <td>1</td>\n",
       "      <td>1 0</td>\n",
       "    </tr>\n",
       "    <tr>\n",
       "      <th>2</th>\n",
       "      <td>2014-07-01 01:00:00</td>\n",
       "      <td>6210</td>\n",
       "      <td>2014</td>\n",
       "      <td>7</td>\n",
       "      <td>1</td>\n",
       "      <td>1</td>\n",
       "      <td>1</td>\n",
       "      <td>1 1</td>\n",
       "    </tr>\n",
       "  </tbody>\n",
       "</table>\n",
       "</div>"
      ],
      "text/plain": [
       "            timestamp  value  Year  Month  Day  Hour  Weekday avg_hour_day\n",
       "0 2014-07-01 00:00:00  10844  2014      7    1     0        1          1 0\n",
       "1 2014-07-01 00:30:00   8127  2014      7    1     0        1          1 0\n",
       "2 2014-07-01 01:00:00   6210  2014      7    1     1        1          1 1"
      ]
     },
     "execution_count": 18,
     "metadata": {},
     "output_type": "execute_result"
    }
   ],
   "source": [
    "df['avg_hour_day'] = df.Weekday.astype(str) + ' ' + df.Hour.astype(str)\n",
    "df.head(3)"
   ]
  },
  {
   "cell_type": "code",
   "execution_count": 19,
   "metadata": {
    "colab": {
     "base_uri": "https://localhost:8080/",
     "height": 357
    },
    "id": "4RqKrBwP5a7s",
    "outputId": "f45e0ea3-48d1-4481-98f0-ca739e535d38"
   },
   "outputs": [
    {
     "data": {
      "text/html": [
       "<div>\n",
       "<style scoped>\n",
       "    .dataframe tbody tr th:only-of-type {\n",
       "        vertical-align: middle;\n",
       "    }\n",
       "\n",
       "    .dataframe tbody tr th {\n",
       "        vertical-align: top;\n",
       "    }\n",
       "\n",
       "    .dataframe thead th {\n",
       "        text-align: right;\n",
       "    }\n",
       "</style>\n",
       "<table border=\"1\" class=\"dataframe\">\n",
       "  <thead>\n",
       "    <tr style=\"text-align: right;\">\n",
       "      <th></th>\n",
       "      <th>timestamp</th>\n",
       "      <th>value</th>\n",
       "      <th>Year</th>\n",
       "      <th>Month</th>\n",
       "      <th>Day</th>\n",
       "      <th>Hour</th>\n",
       "      <th>Weekday</th>\n",
       "      <th>avg_hour_day</th>\n",
       "    </tr>\n",
       "  </thead>\n",
       "  <tbody>\n",
       "    <tr>\n",
       "      <th>0</th>\n",
       "      <td>2014-07-01 00:00:00</td>\n",
       "      <td>10844</td>\n",
       "      <td>2014</td>\n",
       "      <td>7</td>\n",
       "      <td>1</td>\n",
       "      <td>0</td>\n",
       "      <td>1</td>\n",
       "      <td>8764.000000</td>\n",
       "    </tr>\n",
       "    <tr>\n",
       "      <th>1</th>\n",
       "      <td>2014-07-01 00:30:00</td>\n",
       "      <td>8127</td>\n",
       "      <td>2014</td>\n",
       "      <td>7</td>\n",
       "      <td>1</td>\n",
       "      <td>0</td>\n",
       "      <td>1</td>\n",
       "      <td>8764.000000</td>\n",
       "    </tr>\n",
       "    <tr>\n",
       "      <th>2</th>\n",
       "      <td>2014-07-01 01:00:00</td>\n",
       "      <td>6210</td>\n",
       "      <td>2014</td>\n",
       "      <td>7</td>\n",
       "      <td>1</td>\n",
       "      <td>1</td>\n",
       "      <td>1</td>\n",
       "      <td>5185.272727</td>\n",
       "    </tr>\n",
       "    <tr>\n",
       "      <th>3</th>\n",
       "      <td>2014-07-01 01:30:00</td>\n",
       "      <td>4656</td>\n",
       "      <td>2014</td>\n",
       "      <td>7</td>\n",
       "      <td>1</td>\n",
       "      <td>1</td>\n",
       "      <td>1</td>\n",
       "      <td>5185.272727</td>\n",
       "    </tr>\n",
       "    <tr>\n",
       "      <th>4</th>\n",
       "      <td>2014-07-01 02:00:00</td>\n",
       "      <td>3820</td>\n",
       "      <td>2014</td>\n",
       "      <td>7</td>\n",
       "      <td>1</td>\n",
       "      <td>2</td>\n",
       "      <td>1</td>\n",
       "      <td>3112.181818</td>\n",
       "    </tr>\n",
       "    <tr>\n",
       "      <th>5</th>\n",
       "      <td>2014-07-01 02:30:00</td>\n",
       "      <td>2873</td>\n",
       "      <td>2014</td>\n",
       "      <td>7</td>\n",
       "      <td>1</td>\n",
       "      <td>2</td>\n",
       "      <td>1</td>\n",
       "      <td>3112.181818</td>\n",
       "    </tr>\n",
       "    <tr>\n",
       "      <th>6</th>\n",
       "      <td>2014-07-01 03:00:00</td>\n",
       "      <td>2369</td>\n",
       "      <td>2014</td>\n",
       "      <td>7</td>\n",
       "      <td>1</td>\n",
       "      <td>3</td>\n",
       "      <td>1</td>\n",
       "      <td>2075.431818</td>\n",
       "    </tr>\n",
       "    <tr>\n",
       "      <th>7</th>\n",
       "      <td>2014-07-01 03:30:00</td>\n",
       "      <td>2064</td>\n",
       "      <td>2014</td>\n",
       "      <td>7</td>\n",
       "      <td>1</td>\n",
       "      <td>3</td>\n",
       "      <td>1</td>\n",
       "      <td>2075.431818</td>\n",
       "    </tr>\n",
       "    <tr>\n",
       "      <th>8</th>\n",
       "      <td>2014-07-01 04:00:00</td>\n",
       "      <td>2221</td>\n",
       "      <td>2014</td>\n",
       "      <td>7</td>\n",
       "      <td>1</td>\n",
       "      <td>4</td>\n",
       "      <td>1</td>\n",
       "      <td>2083.613636</td>\n",
       "    </tr>\n",
       "    <tr>\n",
       "      <th>9</th>\n",
       "      <td>2014-07-01 04:30:00</td>\n",
       "      <td>2158</td>\n",
       "      <td>2014</td>\n",
       "      <td>7</td>\n",
       "      <td>1</td>\n",
       "      <td>4</td>\n",
       "      <td>1</td>\n",
       "      <td>2083.613636</td>\n",
       "    </tr>\n",
       "  </tbody>\n",
       "</table>\n",
       "</div>"
      ],
      "text/plain": [
       "            timestamp  value  Year  Month  Day  Hour  Weekday  avg_hour_day\n",
       "0 2014-07-01 00:00:00  10844  2014      7    1     0        1   8764.000000\n",
       "1 2014-07-01 00:30:00   8127  2014      7    1     0        1   8764.000000\n",
       "2 2014-07-01 01:00:00   6210  2014      7    1     1        1   5185.272727\n",
       "3 2014-07-01 01:30:00   4656  2014      7    1     1        1   5185.272727\n",
       "4 2014-07-01 02:00:00   3820  2014      7    1     2        1   3112.181818\n",
       "5 2014-07-01 02:30:00   2873  2014      7    1     2        1   3112.181818\n",
       "6 2014-07-01 03:00:00   2369  2014      7    1     3        1   2075.431818\n",
       "7 2014-07-01 03:30:00   2064  2014      7    1     3        1   2075.431818\n",
       "8 2014-07-01 04:00:00   2221  2014      7    1     4        1   2083.613636\n",
       "9 2014-07-01 04:30:00   2158  2014      7    1     4        1   2083.613636"
      ]
     },
     "execution_count": 19,
     "metadata": {},
     "output_type": "execute_result"
    }
   ],
   "source": [
    "df.avg_hour_day = df.avg_hour_day.replace(df[:7344].groupby(df.Weekday.astype(str) + ' ' + df.Hour.astype(str))['value'].mean().to_dict())\n",
    "df.head(10)"
   ]
  },
  {
   "cell_type": "code",
   "execution_count": 20,
   "metadata": {
    "id": "zRmMbqDR5grM"
   },
   "outputs": [],
   "source": [
    "# (3) Featuring the number of rides during the day and during the night.\n",
    "# We define the day time to be any hours between 6 AM and 10 PM while Night time where usually there is less \n",
    "# demand is any time between 10:00 PM and 6:00 AM\n",
    "df['day_time'] = ((df['Hour'] >= 6) & (df['Hour'] <= 22)).astype(int)"
   ]
  },
  {
   "cell_type": "code",
   "execution_count": 21,
   "metadata": {
    "colab": {
     "base_uri": "https://localhost:8080/",
     "height": 203
    },
    "id": "z_lOvZwe5j47",
    "outputId": "6fc7486b-a34e-4535-e2db-fcbcadb9807d"
   },
   "outputs": [
    {
     "data": {
      "text/html": [
       "<div>\n",
       "<style scoped>\n",
       "    .dataframe tbody tr th:only-of-type {\n",
       "        vertical-align: middle;\n",
       "    }\n",
       "\n",
       "    .dataframe tbody tr th {\n",
       "        vertical-align: top;\n",
       "    }\n",
       "\n",
       "    .dataframe thead th {\n",
       "        text-align: right;\n",
       "    }\n",
       "</style>\n",
       "<table border=\"1\" class=\"dataframe\">\n",
       "  <thead>\n",
       "    <tr style=\"text-align: right;\">\n",
       "      <th></th>\n",
       "      <th>timestamp</th>\n",
       "      <th>value</th>\n",
       "      <th>Year</th>\n",
       "      <th>Month</th>\n",
       "      <th>Day</th>\n",
       "      <th>Hour</th>\n",
       "      <th>Weekday</th>\n",
       "      <th>avg_hour_day</th>\n",
       "      <th>day_time</th>\n",
       "    </tr>\n",
       "  </thead>\n",
       "  <tbody>\n",
       "    <tr>\n",
       "      <th>0</th>\n",
       "      <td>2014-07-01 00:00:00</td>\n",
       "      <td>10844</td>\n",
       "      <td>2014</td>\n",
       "      <td>7</td>\n",
       "      <td>1</td>\n",
       "      <td>0</td>\n",
       "      <td>1</td>\n",
       "      <td>8764.000000</td>\n",
       "      <td>0</td>\n",
       "    </tr>\n",
       "    <tr>\n",
       "      <th>1</th>\n",
       "      <td>2014-07-01 00:30:00</td>\n",
       "      <td>8127</td>\n",
       "      <td>2014</td>\n",
       "      <td>7</td>\n",
       "      <td>1</td>\n",
       "      <td>0</td>\n",
       "      <td>1</td>\n",
       "      <td>8764.000000</td>\n",
       "      <td>0</td>\n",
       "    </tr>\n",
       "    <tr>\n",
       "      <th>2</th>\n",
       "      <td>2014-07-01 01:00:00</td>\n",
       "      <td>6210</td>\n",
       "      <td>2014</td>\n",
       "      <td>7</td>\n",
       "      <td>1</td>\n",
       "      <td>1</td>\n",
       "      <td>1</td>\n",
       "      <td>5185.272727</td>\n",
       "      <td>0</td>\n",
       "    </tr>\n",
       "    <tr>\n",
       "      <th>3</th>\n",
       "      <td>2014-07-01 01:30:00</td>\n",
       "      <td>4656</td>\n",
       "      <td>2014</td>\n",
       "      <td>7</td>\n",
       "      <td>1</td>\n",
       "      <td>1</td>\n",
       "      <td>1</td>\n",
       "      <td>5185.272727</td>\n",
       "      <td>0</td>\n",
       "    </tr>\n",
       "    <tr>\n",
       "      <th>4</th>\n",
       "      <td>2014-07-01 02:00:00</td>\n",
       "      <td>3820</td>\n",
       "      <td>2014</td>\n",
       "      <td>7</td>\n",
       "      <td>1</td>\n",
       "      <td>2</td>\n",
       "      <td>1</td>\n",
       "      <td>3112.181818</td>\n",
       "      <td>0</td>\n",
       "    </tr>\n",
       "  </tbody>\n",
       "</table>\n",
       "</div>"
      ],
      "text/plain": [
       "            timestamp  value  Year  Month  Day  Hour  Weekday  avg_hour_day  \\\n",
       "0 2014-07-01 00:00:00  10844  2014      7    1     0        1   8764.000000   \n",
       "1 2014-07-01 00:30:00   8127  2014      7    1     0        1   8764.000000   \n",
       "2 2014-07-01 01:00:00   6210  2014      7    1     1        1   5185.272727   \n",
       "3 2014-07-01 01:30:00   4656  2014      7    1     1        1   5185.272727   \n",
       "4 2014-07-01 02:00:00   3820  2014      7    1     2        1   3112.181818   \n",
       "\n",
       "   day_time  \n",
       "0         0  \n",
       "1         0  \n",
       "2         0  \n",
       "3         0  \n",
       "4         0  "
      ]
     },
     "execution_count": 21,
     "metadata": {},
     "output_type": "execute_result"
    }
   ],
   "source": [
    "df.head()"
   ]
  },
  {
   "cell_type": "code",
   "execution_count": 22,
   "metadata": {
    "colab": {
     "base_uri": "https://localhost:8080/",
     "height": 265
    },
    "id": "kBYdS6_g5mID",
    "outputId": "8185ba20-11ba-4928-dab8-237e76aa7dd7"
   },
   "outputs": [],
   "source": [
    "# df.groupby(['day_time']).sum().plot(kind='pie', y='value', labels=['Night Time', 'Day Time'])"
   ]
  },
  {
   "cell_type": "code",
   "execution_count": 23,
   "metadata": {
    "colab": {
     "base_uri": "https://localhost:8080/",
     "height": 408
    },
    "id": "WqYmWVup5ohU",
    "outputId": "c1720abd-bc66-43cf-f8b6-1f410f0651ec"
   },
   "outputs": [],
   "source": [
    "# sns.distplot(df.loc[df['day_time'] == 0]['value'], kde = False)\n",
    "# sns.distplot(df.loc[df['day_time'] == 1]['value'], kde = False);\n",
    "# plt.title('The number of taxi passengers', fontsize=18)\n",
    "# plt.xlabel('Number of passengers', fontsize=16)\n",
    "# plt.ylabel('Frequency', fontsize=16)"
   ]
  },
  {
   "cell_type": "markdown",
   "metadata": {
    "id": "eKHjEqFA5qCj"
   },
   "source": [
    "### Data Preperation"
   ]
  },
  {
   "cell_type": "code",
   "execution_count": 24,
   "metadata": {
    "colab": {
     "base_uri": "https://localhost:8080/",
     "height": 142
    },
    "id": "X_LRNaVE5tzr",
    "outputId": "2aed7524-1091-4612-cd2b-1488138f8835"
   },
   "outputs": [
    {
     "data": {
      "text/html": [
       "<div>\n",
       "<style scoped>\n",
       "    .dataframe tbody tr th:only-of-type {\n",
       "        vertical-align: middle;\n",
       "    }\n",
       "\n",
       "    .dataframe tbody tr th {\n",
       "        vertical-align: top;\n",
       "    }\n",
       "\n",
       "    .dataframe thead th {\n",
       "        text-align: right;\n",
       "    }\n",
       "</style>\n",
       "<table border=\"1\" class=\"dataframe\">\n",
       "  <thead>\n",
       "    <tr style=\"text-align: right;\">\n",
       "      <th></th>\n",
       "      <th>timestamp</th>\n",
       "      <th>value</th>\n",
       "      <th>Year</th>\n",
       "      <th>Month</th>\n",
       "      <th>Day</th>\n",
       "      <th>Hour</th>\n",
       "      <th>Weekday</th>\n",
       "      <th>avg_hour_day</th>\n",
       "      <th>day_time</th>\n",
       "    </tr>\n",
       "  </thead>\n",
       "  <tbody>\n",
       "    <tr>\n",
       "      <th>0</th>\n",
       "      <td>2014-07-01 00:00:00</td>\n",
       "      <td>10844</td>\n",
       "      <td>2014</td>\n",
       "      <td>7</td>\n",
       "      <td>1</td>\n",
       "      <td>0</td>\n",
       "      <td>1</td>\n",
       "      <td>8764.000000</td>\n",
       "      <td>0</td>\n",
       "    </tr>\n",
       "    <tr>\n",
       "      <th>1</th>\n",
       "      <td>2014-07-01 00:30:00</td>\n",
       "      <td>8127</td>\n",
       "      <td>2014</td>\n",
       "      <td>7</td>\n",
       "      <td>1</td>\n",
       "      <td>0</td>\n",
       "      <td>1</td>\n",
       "      <td>8764.000000</td>\n",
       "      <td>0</td>\n",
       "    </tr>\n",
       "    <tr>\n",
       "      <th>2</th>\n",
       "      <td>2014-07-01 01:00:00</td>\n",
       "      <td>6210</td>\n",
       "      <td>2014</td>\n",
       "      <td>7</td>\n",
       "      <td>1</td>\n",
       "      <td>1</td>\n",
       "      <td>1</td>\n",
       "      <td>5185.272727</td>\n",
       "      <td>0</td>\n",
       "    </tr>\n",
       "  </tbody>\n",
       "</table>\n",
       "</div>"
      ],
      "text/plain": [
       "            timestamp  value  Year  Month  Day  Hour  Weekday  avg_hour_day  \\\n",
       "0 2014-07-01 00:00:00  10844  2014      7    1     0        1   8764.000000   \n",
       "1 2014-07-01 00:30:00   8127  2014      7    1     0        1   8764.000000   \n",
       "2 2014-07-01 01:00:00   6210  2014      7    1     1        1   5185.272727   \n",
       "\n",
       "   day_time  \n",
       "0         0  \n",
       "1         0  \n",
       "2         0  "
      ]
     },
     "execution_count": 24,
     "metadata": {},
     "output_type": "execute_result"
    }
   ],
   "source": [
    "df.head(3)"
   ]
  },
  {
   "cell_type": "code",
   "execution_count": 25,
   "metadata": {
    "id": "dqqjCNwp5vYr"
   },
   "outputs": [],
   "source": [
    "# Normalizing the values\n",
    "standard_scaler = preprocessing.StandardScaler()\n",
    "scaled_data = standard_scaler.fit_transform(df[['Hour', 'day_time', 'Weekday', 'avg_hour_day', 'value']])"
   ]
  },
  {
   "cell_type": "code",
   "execution_count": 81,
   "metadata": {
    "id": "G-Mk0b7r5x30"
   },
   "outputs": [],
   "source": [
    "scaled_df = df.copy()"
   ]
  },
  {
   "cell_type": "code",
   "execution_count": 82,
   "metadata": {},
   "outputs": [
    {
     "data": {
      "text/html": [
       "<div>\n",
       "<style scoped>\n",
       "    .dataframe tbody tr th:only-of-type {\n",
       "        vertical-align: middle;\n",
       "    }\n",
       "\n",
       "    .dataframe tbody tr th {\n",
       "        vertical-align: top;\n",
       "    }\n",
       "\n",
       "    .dataframe thead th {\n",
       "        text-align: right;\n",
       "    }\n",
       "</style>\n",
       "<table border=\"1\" class=\"dataframe\">\n",
       "  <thead>\n",
       "    <tr style=\"text-align: right;\">\n",
       "      <th></th>\n",
       "      <th>timestamp</th>\n",
       "      <th>value</th>\n",
       "      <th>Year</th>\n",
       "      <th>Month</th>\n",
       "      <th>Day</th>\n",
       "      <th>Hour</th>\n",
       "      <th>Weekday</th>\n",
       "      <th>avg_hour_day</th>\n",
       "      <th>day_time</th>\n",
       "    </tr>\n",
       "  </thead>\n",
       "  <tbody>\n",
       "    <tr>\n",
       "      <th>0</th>\n",
       "      <td>2014-07-01 00:00:00</td>\n",
       "      <td>10844</td>\n",
       "      <td>2014</td>\n",
       "      <td>7</td>\n",
       "      <td>1</td>\n",
       "      <td>0</td>\n",
       "      <td>1</td>\n",
       "      <td>8764.000000</td>\n",
       "      <td>0</td>\n",
       "    </tr>\n",
       "    <tr>\n",
       "      <th>1</th>\n",
       "      <td>2014-07-01 00:30:00</td>\n",
       "      <td>8127</td>\n",
       "      <td>2014</td>\n",
       "      <td>7</td>\n",
       "      <td>1</td>\n",
       "      <td>0</td>\n",
       "      <td>1</td>\n",
       "      <td>8764.000000</td>\n",
       "      <td>0</td>\n",
       "    </tr>\n",
       "    <tr>\n",
       "      <th>2</th>\n",
       "      <td>2014-07-01 01:00:00</td>\n",
       "      <td>6210</td>\n",
       "      <td>2014</td>\n",
       "      <td>7</td>\n",
       "      <td>1</td>\n",
       "      <td>1</td>\n",
       "      <td>1</td>\n",
       "      <td>5185.272727</td>\n",
       "      <td>0</td>\n",
       "    </tr>\n",
       "    <tr>\n",
       "      <th>3</th>\n",
       "      <td>2014-07-01 01:30:00</td>\n",
       "      <td>4656</td>\n",
       "      <td>2014</td>\n",
       "      <td>7</td>\n",
       "      <td>1</td>\n",
       "      <td>1</td>\n",
       "      <td>1</td>\n",
       "      <td>5185.272727</td>\n",
       "      <td>0</td>\n",
       "    </tr>\n",
       "    <tr>\n",
       "      <th>4</th>\n",
       "      <td>2014-07-01 02:00:00</td>\n",
       "      <td>3820</td>\n",
       "      <td>2014</td>\n",
       "      <td>7</td>\n",
       "      <td>1</td>\n",
       "      <td>2</td>\n",
       "      <td>1</td>\n",
       "      <td>3112.181818</td>\n",
       "      <td>0</td>\n",
       "    </tr>\n",
       "  </tbody>\n",
       "</table>\n",
       "</div>"
      ],
      "text/plain": [
       "            timestamp  value  Year  Month  Day  Hour  Weekday  avg_hour_day  \\\n",
       "0 2014-07-01 00:00:00  10844  2014      7    1     0        1   8764.000000   \n",
       "1 2014-07-01 00:30:00   8127  2014      7    1     0        1   8764.000000   \n",
       "2 2014-07-01 01:00:00   6210  2014      7    1     1        1   5185.272727   \n",
       "3 2014-07-01 01:30:00   4656  2014      7    1     1        1   5185.272727   \n",
       "4 2014-07-01 02:00:00   3820  2014      7    1     2        1   3112.181818   \n",
       "\n",
       "   day_time  \n",
       "0         0  \n",
       "1         0  \n",
       "2         0  \n",
       "3         0  \n",
       "4         0  "
      ]
     },
     "execution_count": 82,
     "metadata": {},
     "output_type": "execute_result"
    }
   ],
   "source": [
    "scaled_df.head()"
   ]
  },
  {
   "cell_type": "code",
   "execution_count": 83,
   "metadata": {
    "colab": {
     "base_uri": "https://localhost:8080/",
     "height": 142
    },
    "id": "iAvcXGo350Mz",
    "outputId": "530a1eb2-ec3b-4803-f6f7-a0bc527e5bd3"
   },
   "outputs": [],
   "source": [
    "# scaled_df['Hour'] = scaled_data[:,0]\n",
    "# scaled_df['day_time'] = scaled_data[:,1]\n",
    "# scaled_df['Weekday'] = scaled_data[:,2]\n",
    "# scaled_df['avg_hour_day'] = scaled_data[:,3]\n",
    "# scaled_df['value'] = scaled_data[:,4]\n",
    "# scaled_df.head(3)"
   ]
  },
  {
   "cell_type": "code",
   "execution_count": 28,
   "metadata": {
    "id": "OaVCpEq8561a"
   },
   "outputs": [],
   "source": [
    "# Specifying how many values to predict\n",
    "time_step = 1"
   ]
  },
  {
   "cell_type": "markdown",
   "metadata": {
    "id": "-z5f23Zf58ir"
   },
   "source": [
    "### Splitting the dataset"
   ]
  },
  {
   "cell_type": "code",
   "execution_count": 29,
   "metadata": {
    "colab": {
     "base_uri": "https://localhost:8080/"
    },
    "id": "AMeM59K35_LU",
    "outputId": "67fe8fc0-818e-4d0f-bcd4-a7976d13daab"
   },
   "outputs": [
    {
     "name": "stdout",
     "output_type": "stream",
     "text": [
      "Size of the dataset: 10320\n",
      "Training examples: 9288\n",
      "Testing examples: 1032\n"
     ]
    }
   ],
   "source": [
    "training_size = int(len(scaled_df) * 0.9)\n",
    "training, testing = scaled_df[0:training_size], scaled_df[training_size:len(df)]\n",
    "print('Size of the dataset: %d' % (len(scaled_df)))\n",
    "print('Training examples: %d' % (len(training)))\n",
    "print('Testing examples: %d' % (len(testing)))"
   ]
  },
  {
   "cell_type": "code",
   "execution_count": 30,
   "metadata": {
    "id": "JL4yPEDN6Atz"
   },
   "outputs": [],
   "source": [
    "# training features: Value, Hour, day_time\n",
    "X_train = training[['value', 'Hour', 'day_time']].to_numpy()\n",
    "y_train = scaled_df[time_step:testing.index[0]]['value'].to_numpy()"
   ]
  },
  {
   "cell_type": "code",
   "execution_count": 59,
   "metadata": {
    "id": "u60NBfkY6DG7"
   },
   "outputs": [],
   "source": [
    "# testing data\n",
    "X_test = testing[0:-time_step][['value', 'Hour', 'day_time']].to_numpy()\n",
    "y_test = scaled_df[testing.index[0] + time_step:]['value'].to_numpy()"
   ]
  },
  {
   "cell_type": "code",
   "execution_count": 60,
   "metadata": {},
   "outputs": [
    {
     "data": {
      "text/plain": [
       "array([[ 1.09327802,  0.07223151,  0.64168895],\n",
       "       [ 1.25641016,  0.07223151,  0.64168895],\n",
       "       [ 1.14357229,  0.21669454,  0.64168895],\n",
       "       ...,\n",
       "       [ 1.5251747 ,  1.51686175,  0.64168895],\n",
       "       [ 1.75402085,  1.51686175,  0.64168895],\n",
       "       [ 1.65055011,  1.66132477, -1.55838744]])"
      ]
     },
     "execution_count": 60,
     "metadata": {},
     "output_type": "execute_result"
    }
   ],
   "source": [
    "X_test"
   ]
  },
  {
   "cell_type": "code",
   "execution_count": 32,
   "metadata": {},
   "outputs": [],
   "source": [
    "# # for inverse transformation\n",
    "# inversed = standard_scaler.inverse_transform(X_test)\n",
    "# print(inversed)"
   ]
  },
  {
   "cell_type": "code",
   "execution_count": 33,
   "metadata": {
    "colab": {
     "base_uri": "https://localhost:8080/",
     "height": 350
    },
    "id": "4Juqg95u6E0j",
    "outputId": "def5115b-312f-4e07-d7ac-cc435da4f59a"
   },
   "outputs": [],
   "source": [
    "# fig, ax = plt.subplots(figsize=(12, 5))\n",
    "# ax.plot(training['timestamp'], X_train[:,0])\n",
    "# ax.plot(testing['timestamp'][0:-1], X_test[:,0])\n",
    "# ax.set_title('NYC Taxi Demand')\n",
    "# plt.xlabel('timestamp')\n",
    "# plt.ylabel('Scaled Number passengers')\n",
    "# plt.show()"
   ]
  },
  {
   "cell_type": "markdown",
   "metadata": {
    "id": "astUv-3O6GP7"
   },
   "source": [
    "### Creating the data sequence"
   ]
  },
  {
   "cell_type": "code",
   "execution_count": 34,
   "metadata": {
    "colab": {
     "base_uri": "https://localhost:8080/"
    },
    "id": "BZCEoINE6I57",
    "outputId": "5cd73f32-1c43-4342-e6b6-61c851368fad"
   },
   "outputs": [
    {
     "data": {
      "text/plain": [
       "array([-1.01029084, -1.28654908, -1.51049551, ...,  0.53067386,\n",
       "        0.6817008 ,  1.06142978])"
      ]
     },
     "execution_count": 34,
     "metadata": {},
     "output_type": "execute_result"
    }
   ],
   "source": [
    "y_train"
   ]
  },
  {
   "cell_type": "code",
   "execution_count": 35,
   "metadata": {
    "colab": {
     "base_uri": "https://localhost:8080/"
    },
    "id": "yHNSVJkD6Ktz",
    "outputId": "3f07a2d0-40ab-4bf4-c8b7-8966b788f319"
   },
   "outputs": [
    {
     "data": {
      "text/plain": [
       "array([-1.01029084, -1.28654908, -1.51049551, ...,  0.53067386,\n",
       "        0.6817008 ,  1.06142978])"
      ]
     },
     "execution_count": 35,
     "metadata": {},
     "output_type": "execute_result"
    }
   ],
   "source": [
    "y_train[-X_train.shape[0]:]"
   ]
  },
  {
   "cell_type": "code",
   "execution_count": 36,
   "metadata": {
    "id": "z86RRUd96NVK"
   },
   "outputs": [],
   "source": [
    "# create sequences of (48-two readings per hour) data points for each training example\n",
    "def create_sequence(dataset, length):\n",
    "    data_sequences = []\n",
    "    for index in range(len(dataset) - length):\n",
    "        data_sequences.append(dataset[index: index + length])\n",
    "    return np.asarray(data_sequences)"
   ]
  },
  {
   "cell_type": "code",
   "execution_count": 37,
   "metadata": {
    "id": "SULHWflu6OwC"
   },
   "outputs": [],
   "source": [
    "X_train = create_sequence(X_train, 48)\n",
    "X_test  = create_sequence(X_test, 48)\n",
    "y_train = y_train[-X_train.shape[0]:]\n",
    "y_test  = y_test[-X_test.shape[0]:]"
   ]
  },
  {
   "cell_type": "code",
   "execution_count": 38,
   "metadata": {
    "colab": {
     "base_uri": "https://localhost:8080/"
    },
    "id": "j8XRvUTB6Qc6",
    "outputId": "d871466d-34a9-4022-df0e-f3a813b15ab1"
   },
   "outputs": [
    {
     "data": {
      "text/plain": [
       "-0.2547238406089097"
      ]
     },
     "execution_count": 38,
     "metadata": {},
     "output_type": "execute_result"
    }
   ],
   "source": [
    "y_train[0]"
   ]
  },
  {
   "cell_type": "code",
   "execution_count": 39,
   "metadata": {},
   "outputs": [
    {
     "data": {
      "text/plain": [
       "array([[[ 1.09327802,  0.07223151,  0.64168895],\n",
       "        [ 1.25641016,  0.07223151,  0.64168895],\n",
       "        [ 1.14357229,  0.21669454,  0.64168895],\n",
       "        ...,\n",
       "        [ 0.33771101, -0.21669454,  0.64168895],\n",
       "        [ 0.37359432, -0.07223151,  0.64168895],\n",
       "        [ 0.70288492, -0.07223151,  0.64168895]],\n",
       "\n",
       "       [[ 1.25641016,  0.07223151,  0.64168895],\n",
       "        [ 1.14357229,  0.21669454,  0.64168895],\n",
       "        [ 1.05984457,  0.21669454,  0.64168895],\n",
       "        ...,\n",
       "        [ 0.37359432, -0.07223151,  0.64168895],\n",
       "        [ 0.70288492, -0.07223151,  0.64168895],\n",
       "        [ 0.67103668,  0.07223151,  0.64168895]],\n",
       "\n",
       "       [[ 1.14357229,  0.21669454,  0.64168895],\n",
       "        [ 1.05984457,  0.21669454,  0.64168895],\n",
       "        [ 0.89325379,  0.36115756,  0.64168895],\n",
       "        ...,\n",
       "        [ 0.70288492, -0.07223151,  0.64168895],\n",
       "        [ 0.67103668,  0.07223151,  0.64168895],\n",
       "        [ 0.9470067 ,  0.07223151,  0.64168895]],\n",
       "\n",
       "       ...,\n",
       "\n",
       "       [[ 1.67187834,  1.51686175,  0.64168895],\n",
       "        [ 1.69133315,  1.51686175,  0.64168895],\n",
       "        [ 1.69911507,  1.66132477, -1.55838744],\n",
       "        ...,\n",
       "        [ 1.1749882 ,  1.2279357 ,  0.64168895],\n",
       "        [ 1.23666714,  1.37239873,  0.64168895],\n",
       "        [ 1.37371543,  1.37239873,  0.64168895]],\n",
       "\n",
       "       [[ 1.69133315,  1.51686175,  0.64168895],\n",
       "        [ 1.69911507,  1.66132477, -1.55838744],\n",
       "        [ 1.5653813 ,  1.66132477, -1.55838744],\n",
       "        ...,\n",
       "        [ 1.23666714,  1.37239873,  0.64168895],\n",
       "        [ 1.37371543,  1.37239873,  0.64168895],\n",
       "        [ 1.5251747 ,  1.51686175,  0.64168895]],\n",
       "\n",
       "       [[ 1.69911507,  1.66132477, -1.55838744],\n",
       "        [ 1.5653813 ,  1.66132477, -1.55838744],\n",
       "        [ 1.53338895, -1.66132477, -1.55838744],\n",
       "        ...,\n",
       "        [ 1.37371543,  1.37239873,  0.64168895],\n",
       "        [ 1.5251747 ,  1.51686175,  0.64168895],\n",
       "        [ 1.75402085,  1.51686175,  0.64168895]]])"
      ]
     },
     "execution_count": 39,
     "metadata": {},
     "output_type": "execute_result"
    }
   ],
   "source": [
    "X_test"
   ]
  },
  {
   "cell_type": "code",
   "execution_count": 40,
   "metadata": {
    "colab": {
     "base_uri": "https://localhost:8080/",
     "height": 350
    },
    "id": "Bk5euoLE6SXj",
    "outputId": "e81146a1-efc2-4a7c-8eec-822c8ae76957"
   },
   "outputs": [],
   "source": [
    "# fig, ax = plt.subplots(figsize=(12, 5))\n",
    "# ax.plot(training[0:48]['timestamp'], X_train[0,:,0])\n",
    "# ax.scatter(training[48:49]['timestamp'], y_train[0], color='red', linewidth=5.0)\n",
    "# ax.set_title('NYC Taxi Demand')\n",
    "# plt.xlabel('timestamp')\n",
    "# plt.ylabel('Scaled Number passengers')\n",
    "# plt.show()"
   ]
  },
  {
   "cell_type": "code",
   "execution_count": 41,
   "metadata": {
    "colab": {
     "base_uri": "https://localhost:8080/",
     "height": 350
    },
    "id": "JWe9TD-56T16",
    "outputId": "a669b953-55e3-483f-e3f2-9174e788fb96"
   },
   "outputs": [],
   "source": [
    "# fig, ax = plt.subplots(figsize=(12, 5))\n",
    "# ax.plot(training[1:49]['timestamp'], X_train[1,:,0])\n",
    "# ax.scatter(training[48:49]['timestamp'], y_train[0], color='green', linewidth=5.0)\n",
    "# ax.scatter(training[49:50]['timestamp'], y_train[1], color='red', linewidth=5.0)\n",
    "# ax.set_title('NYC Taxi Demand')\n",
    "# plt.xlabel('timestamp')\n",
    "# plt.ylabel('Scaled Number passengers')\n",
    "# plt.show()"
   ]
  },
  {
   "cell_type": "code",
   "execution_count": 42,
   "metadata": {
    "colab": {
     "base_uri": "https://localhost:8080/"
    },
    "id": "u_Zx_A3B6WvT",
    "outputId": "d8c3d6db-ecbc-4f40-bfdc-21000fa877e2"
   },
   "outputs": [
    {
     "name": "stdout",
     "output_type": "stream",
     "text": [
      "X_train shape=(9240, 48, 3), and y_train shape=(9240,)\n",
      "X_test shape=(983, 48, 3), and y_test shape=(983,)\n"
     ]
    }
   ],
   "source": [
    "print(\"X_train shape={}, and y_train shape={}\".format(X_train.shape, y_train.shape))\n",
    "print(\"X_test shape={}, and y_test shape={}\".format(X_test.shape, y_test.shape))"
   ]
  },
  {
   "cell_type": "markdown",
   "metadata": {
    "id": "uoSmERCz6YNK"
   },
   "source": [
    "### Model Building"
   ]
  },
  {
   "cell_type": "code",
   "execution_count": 43,
   "metadata": {
    "id": "aTqnpzmL6bAS"
   },
   "outputs": [],
   "source": [
    "# Building the model\n",
    "model1 = Sequential()\n",
    "# Adding a Bidirectional LSTM layer\n",
    "model1.add(Bidirectional(LSTM(64,return_sequences=True, dropout=0.5, input_shape=(X_train.shape[1], X_train.shape[-1]))))\n",
    "model1.add(Bidirectional(LSTM(20, dropout=0.5)))\n",
    "model1.add(Dense(1))\n",
    "model1.compile(loss='mse', optimizer='rmsprop', metrics = [tf.keras.metrics.MeanAbsoluteError()])"
   ]
  },
  {
   "cell_type": "code",
   "execution_count": 44,
   "metadata": {
    "colab": {
     "base_uri": "https://localhost:8080/"
    },
    "id": "Lsntfspp6c9q",
    "outputId": "bd901716-d618-4c04-e047-134de38966ef"
   },
   "outputs": [
    {
     "name": "stdout",
     "output_type": "stream",
     "text": [
      "Epoch 1/50\n",
      "73/73 [==============================] - 66s 106ms/step - loss: 0.2603 - mean_absolute_error: 0.4633\n",
      "Epoch 2/50\n",
      "73/73 [==============================] - 8s 104ms/step - loss: 0.1202 - mean_absolute_error: 0.3179\n",
      "Epoch 3/50\n",
      "73/73 [==============================] - 7s 102ms/step - loss: 0.1077 - mean_absolute_error: 0.2911\n",
      "Epoch 4/50\n",
      "73/73 [==============================] - 8s 104ms/step - loss: 0.0986 - mean_absolute_error: 0.2749\n",
      "Epoch 5/50\n",
      "73/73 [==============================] - 8s 104ms/step - loss: 0.0887 - mean_absolute_error: 0.2636\n",
      "Epoch 6/50\n",
      "73/73 [==============================] - 8s 106ms/step - loss: 0.0844 - mean_absolute_error: 0.2548\n",
      "Epoch 7/50\n",
      "73/73 [==============================] - 8s 108ms/step - loss: 0.0796 - mean_absolute_error: 0.2475\n",
      "Epoch 8/50\n",
      "73/73 [==============================] - 8s 104ms/step - loss: 0.0768 - mean_absolute_error: 0.2417\n",
      "Epoch 9/50\n",
      "73/73 [==============================] - 8s 105ms/step - loss: 0.0700 - mean_absolute_error: 0.2365\n",
      "Epoch 10/50\n",
      "73/73 [==============================] - 8s 106ms/step - loss: 0.0743 - mean_absolute_error: 0.2322\n",
      "Epoch 11/50\n",
      "73/73 [==============================] - 8s 110ms/step - loss: 0.0667 - mean_absolute_error: 0.2282\n",
      "Epoch 12/50\n",
      "73/73 [==============================] - 8s 106ms/step - loss: 0.0665 - mean_absolute_error: 0.2247\n",
      "Epoch 13/50\n",
      "73/73 [==============================] - 8s 106ms/step - loss: 0.0621 - mean_absolute_error: 0.2214\n",
      "Epoch 14/50\n",
      "73/73 [==============================] - 8s 107ms/step - loss: 0.0613 - mean_absolute_error: 0.2183\n",
      "Epoch 15/50\n",
      "73/73 [==============================] - 8s 107ms/step - loss: 0.0603 - mean_absolute_error: 0.2154\n",
      "Epoch 16/50\n",
      "73/73 [==============================] - 8s 108ms/step - loss: 0.0564 - mean_absolute_error: 0.2127\n",
      "Epoch 17/50\n",
      "73/73 [==============================] - 8s 109ms/step - loss: 0.0577 - mean_absolute_error: 0.2104\n",
      "Epoch 18/50\n",
      "73/73 [==============================] - 8s 108ms/step - loss: 0.0529 - mean_absolute_error: 0.2079\n",
      "Epoch 19/50\n",
      "73/73 [==============================] - 8s 114ms/step - loss: 0.0515 - mean_absolute_error: 0.2057\n",
      "Epoch 20/50\n",
      "73/73 [==============================] - 8s 107ms/step - loss: 0.0516 - mean_absolute_error: 0.2035\n",
      "Epoch 21/50\n",
      "73/73 [==============================] - 8s 109ms/step - loss: 0.0483 - mean_absolute_error: 0.2014\n",
      "Epoch 22/50\n",
      "73/73 [==============================] - 8s 109ms/step - loss: 0.0490 - mean_absolute_error: 0.1995\n",
      "Epoch 23/50\n",
      "73/73 [==============================] - 8s 106ms/step - loss: 0.0481 - mean_absolute_error: 0.1976\n",
      "Epoch 24/50\n",
      "73/73 [==============================] - 8s 107ms/step - loss: 0.0494 - mean_absolute_error: 0.1959\n",
      "Epoch 25/50\n",
      "73/73 [==============================] - 8s 109ms/step - loss: 0.0449 - mean_absolute_error: 0.1941\n",
      "Epoch 26/50\n",
      "73/73 [==============================] - 9s 117ms/step - loss: 0.0486 - mean_absolute_error: 0.1926\n",
      "Epoch 27/50\n",
      "73/73 [==============================] - 8s 112ms/step - loss: 0.0422 - mean_absolute_error: 0.1911\n",
      "Epoch 28/50\n",
      "73/73 [==============================] - 8s 113ms/step - loss: 0.0398 - mean_absolute_error: 0.1895\n",
      "Epoch 29/50\n",
      "73/73 [==============================] - 8s 110ms/step - loss: 0.0398 - mean_absolute_error: 0.1880\n",
      "Epoch 30/50\n",
      "73/73 [==============================] - 8s 112ms/step - loss: 0.0406 - mean_absolute_error: 0.1866\n",
      "Epoch 31/50\n",
      "73/73 [==============================] - 8s 112ms/step - loss: 0.0375 - mean_absolute_error: 0.1853\n",
      "Epoch 32/50\n",
      "73/73 [==============================] - 8s 112ms/step - loss: 0.0366 - mean_absolute_error: 0.1838\n",
      "Epoch 33/50\n",
      "73/73 [==============================] - 8s 114ms/step - loss: 0.0368 - mean_absolute_error: 0.1825\n",
      "Epoch 34/50\n",
      "73/73 [==============================] - 9s 117ms/step - loss: 0.0357 - mean_absolute_error: 0.1812\n",
      "Epoch 35/50\n",
      "73/73 [==============================] - 9s 118ms/step - loss: 0.0382 - mean_absolute_error: 0.1800\n",
      "Epoch 36/50\n",
      "73/73 [==============================] - 8s 116ms/step - loss: 0.0350 - mean_absolute_error: 0.1788\n",
      "Epoch 37/50\n",
      "73/73 [==============================] - 8s 116ms/step - loss: 0.0356 - mean_absolute_error: 0.1776\n",
      "Epoch 38/50\n",
      "73/73 [==============================] - 9s 119ms/step - loss: 0.0359 - mean_absolute_error: 0.1765\n",
      "Epoch 39/50\n",
      "73/73 [==============================] - 8s 115ms/step - loss: 0.0354 - mean_absolute_error: 0.1755\n",
      "Epoch 40/50\n",
      "73/73 [==============================] - 9s 117ms/step - loss: 0.0333 - mean_absolute_error: 0.1744\n",
      "Epoch 41/50\n",
      "73/73 [==============================] - 9s 124ms/step - loss: 0.0328 - mean_absolute_error: 0.1734\n",
      "Epoch 42/50\n",
      "73/73 [==============================] - 9s 118ms/step - loss: 0.0325 - mean_absolute_error: 0.1724\n",
      "Epoch 43/50\n",
      "73/73 [==============================] - 9s 119ms/step - loss: 0.0321 - mean_absolute_error: 0.1714\n",
      "Epoch 44/50\n",
      "73/73 [==============================] - 9s 120ms/step - loss: 0.0327 - mean_absolute_error: 0.1704\n",
      "Epoch 45/50\n",
      "73/73 [==============================] - 9s 119ms/step - loss: 0.0307 - mean_absolute_error: 0.1695\n",
      "Epoch 46/50\n",
      "73/73 [==============================] - 9s 120ms/step - loss: 0.0299 - mean_absolute_error: 0.1686\n",
      "Epoch 47/50\n",
      "73/73 [==============================] - 9s 121ms/step - loss: 0.0286 - mean_absolute_error: 0.1677\n",
      "Epoch 48/50\n",
      "73/73 [==============================] - 9s 117ms/step - loss: 0.0315 - mean_absolute_error: 0.1668\n",
      "Epoch 49/50\n",
      "73/73 [==============================] - 9s 120ms/step - loss: 0.0286 - mean_absolute_error: 0.1659\n",
      "Epoch 50/50\n",
      "73/73 [==============================] - 9s 119ms/step - loss: 0.0315 - mean_absolute_error: 0.1651\n"
     ]
    },
    {
     "data": {
      "text/plain": [
       "<keras.callbacks.History at 0x15b6ed9a310>"
      ]
     },
     "execution_count": 44,
     "metadata": {},
     "output_type": "execute_result"
    }
   ],
   "source": [
    "# Training the model\n",
    "model1.fit(X_train, y_train, batch_size=128, epochs=50)"
   ]
  },
  {
   "cell_type": "code",
   "execution_count": 45,
   "metadata": {},
   "outputs": [
    {
     "name": "stdout",
     "output_type": "stream",
     "text": [
      "Model: \"sequential\"\n",
      "_________________________________________________________________\n",
      "Layer (type)                 Output Shape              Param #   \n",
      "=================================================================\n",
      "bidirectional (Bidirectional (None, 48, 128)           34816     \n",
      "_________________________________________________________________\n",
      "bidirectional_1 (Bidirection (None, 40)                23840     \n",
      "_________________________________________________________________\n",
      "dense (Dense)                (None, 1)                 41        \n",
      "=================================================================\n",
      "Total params: 58,697\n",
      "Trainable params: 58,697\n",
      "Non-trainable params: 0\n",
      "_________________________________________________________________\n"
     ]
    }
   ],
   "source": [
    "model1.summary()"
   ]
  },
  {
   "cell_type": "markdown",
   "metadata": {},
   "source": [
    "### Save the model"
   ]
  },
  {
   "cell_type": "code",
   "execution_count": 52,
   "metadata": {},
   "outputs": [],
   "source": [
    "model1.save('my_model.h5')\n",
    "# path_1 = 'C:\\\\Naresh Workspace\\\\SRH Heidelberg\\\\Big Data and Business Analytics\\\\Analytics 4\\\\my_model.h5'"
   ]
  },
  {
   "cell_type": "code",
   "execution_count": 53,
   "metadata": {},
   "outputs": [],
   "source": [
    "new_model = tf.keras.models.load_model('my_model.h5')"
   ]
  },
  {
   "cell_type": "code",
   "execution_count": 54,
   "metadata": {},
   "outputs": [
    {
     "name": "stdout",
     "output_type": "stream",
     "text": [
      "Model: \"sequential\"\n",
      "_________________________________________________________________\n",
      "Layer (type)                 Output Shape              Param #   \n",
      "=================================================================\n",
      "bidirectional (Bidirectional (None, 48, 128)           34816     \n",
      "_________________________________________________________________\n",
      "bidirectional_1 (Bidirection (None, 40)                23840     \n",
      "_________________________________________________________________\n",
      "dense (Dense)                (None, 1)                 41        \n",
      "=================================================================\n",
      "Total params: 58,697\n",
      "Trainable params: 58,697\n",
      "Non-trainable params: 0\n",
      "_________________________________________________________________\n"
     ]
    }
   ],
   "source": [
    "new_model.summary()"
   ]
  },
  {
   "cell_type": "code",
   "execution_count": 49,
   "metadata": {},
   "outputs": [],
   "source": [
    "# Pkl_Filename = \"Model_PKL\"  \n",
    "\n",
    "# with open(Pkl_Filename, 'wb') as file:  \n",
    "#     pickle.dump(model1, file)"
   ]
  },
  {
   "cell_type": "code",
   "execution_count": 50,
   "metadata": {},
   "outputs": [],
   "source": [
    "# with open(Pkl_Filename, 'rb') as file:  \n",
    "#     Pickled_LR_Model = pickle.load(file)\n",
    "\n",
    "# Pickled_LR_Model"
   ]
  },
  {
   "cell_type": "markdown",
   "metadata": {
    "id": "Z-9V9BGGAUFS"
   },
   "source": [
    "### Evaluation"
   ]
  },
  {
   "cell_type": "code",
   "execution_count": 58,
   "metadata": {},
   "outputs": [
    {
     "data": {
      "text/plain": [
       "array([[[ 1.09327802,  0.07223151,  0.64168895],\n",
       "        [ 1.25641016,  0.07223151,  0.64168895],\n",
       "        [ 1.14357229,  0.21669454,  0.64168895],\n",
       "        ...,\n",
       "        [ 0.33771101, -0.21669454,  0.64168895],\n",
       "        [ 0.37359432, -0.07223151,  0.64168895],\n",
       "        [ 0.70288492, -0.07223151,  0.64168895]],\n",
       "\n",
       "       [[ 1.25641016,  0.07223151,  0.64168895],\n",
       "        [ 1.14357229,  0.21669454,  0.64168895],\n",
       "        [ 1.05984457,  0.21669454,  0.64168895],\n",
       "        ...,\n",
       "        [ 0.37359432, -0.07223151,  0.64168895],\n",
       "        [ 0.70288492, -0.07223151,  0.64168895],\n",
       "        [ 0.67103668,  0.07223151,  0.64168895]],\n",
       "\n",
       "       [[ 1.14357229,  0.21669454,  0.64168895],\n",
       "        [ 1.05984457,  0.21669454,  0.64168895],\n",
       "        [ 0.89325379,  0.36115756,  0.64168895],\n",
       "        ...,\n",
       "        [ 0.70288492, -0.07223151,  0.64168895],\n",
       "        [ 0.67103668,  0.07223151,  0.64168895],\n",
       "        [ 0.9470067 ,  0.07223151,  0.64168895]],\n",
       "\n",
       "       ...,\n",
       "\n",
       "       [[ 1.67187834,  1.51686175,  0.64168895],\n",
       "        [ 1.69133315,  1.51686175,  0.64168895],\n",
       "        [ 1.69911507,  1.66132477, -1.55838744],\n",
       "        ...,\n",
       "        [ 1.1749882 ,  1.2279357 ,  0.64168895],\n",
       "        [ 1.23666714,  1.37239873,  0.64168895],\n",
       "        [ 1.37371543,  1.37239873,  0.64168895]],\n",
       "\n",
       "       [[ 1.69133315,  1.51686175,  0.64168895],\n",
       "        [ 1.69911507,  1.66132477, -1.55838744],\n",
       "        [ 1.5653813 ,  1.66132477, -1.55838744],\n",
       "        ...,\n",
       "        [ 1.23666714,  1.37239873,  0.64168895],\n",
       "        [ 1.37371543,  1.37239873,  0.64168895],\n",
       "        [ 1.5251747 ,  1.51686175,  0.64168895]],\n",
       "\n",
       "       [[ 1.69911507,  1.66132477, -1.55838744],\n",
       "        [ 1.5653813 ,  1.66132477, -1.55838744],\n",
       "        [ 1.53338895, -1.66132477, -1.55838744],\n",
       "        ...,\n",
       "        [ 1.37371543,  1.37239873,  0.64168895],\n",
       "        [ 1.5251747 ,  1.51686175,  0.64168895],\n",
       "        [ 1.75402085,  1.51686175,  0.64168895]]])"
      ]
     },
     "execution_count": 58,
     "metadata": {},
     "output_type": "execute_result"
    }
   ],
   "source": [
    "X_test"
   ]
  },
  {
   "cell_type": "code",
   "execution_count": 56,
   "metadata": {
    "colab": {
     "base_uri": "https://localhost:8080/"
    },
    "id": "hMQoKQEPAZT6",
    "outputId": "cb992d8d-e8a7-450e-b9fd-5a0e91df0a5e"
   },
   "outputs": [
    {
     "data": {
      "text/plain": [
       "983"
      ]
     },
     "execution_count": 56,
     "metadata": {},
     "output_type": "execute_result"
    }
   ],
   "source": [
    "# create the list of difference between prediction and test data\n",
    "predictions = model1.predict(X_test)\n",
    "len(predictions)"
   ]
  },
  {
   "cell_type": "code",
   "execution_count": 80,
   "metadata": {},
   "outputs": [],
   "source": [
    "y_preds = model1.predict([[[ 1.09327802,  0.07223151,  0.64168895]]])\n",
    "# inversed = standard_scaler.inverse_transform(y_preds)"
   ]
  },
  {
   "cell_type": "code",
   "execution_count": 57,
   "metadata": {
    "colab": {
     "base_uri": "https://localhost:8080/"
    },
    "id": "o_ooxP2FA1ja",
    "outputId": "ed9b0db5-6f2e-45d9-b23d-c711c5c19781"
   },
   "outputs": [
    {
     "data": {
      "text/plain": [
       "array([[0.25862986, 0.9470067 ],\n",
       "       [0.40680057, 0.88748941],\n",
       "       [0.52580428, 0.75562906],\n",
       "       ...,\n",
       "       [0.36378777, 1.75402085],\n",
       "       [0.42623097, 1.65055011],\n",
       "       [0.55773532, 1.60688488]])"
      ]
     },
     "execution_count": 57,
     "metadata": {},
     "output_type": "execute_result"
    }
   ],
   "source": [
    "np.concatenate((predictions.reshape(len(predictions),1), y_test.reshape(len(y_test),1)),1)"
   ]
  },
  {
   "cell_type": "code",
   "execution_count": 93,
   "metadata": {
    "id": "xW2_2XqBAdlR"
   },
   "outputs": [],
   "source": [
    "def evaluate_predictions(predictions, y_test, outliers):\n",
    "    ratio = []\n",
    "    differences = []\n",
    "    for pred in range(len(y_test)):\n",
    "        ratio.append((y_test[pred]/predictions[pred])-1)\n",
    "        differences.append(abs(y_test[pred]- predictions[pred]))\n",
    "    \n",
    "    \n",
    "    n_outliers = int(len(differences) * outliers)\n",
    "    outliers = pd.Series(differences).astype(float).nlargest(n_outliers)\n",
    "    \n",
    "    return ratio, differences, outliers"
   ]
  },
  {
   "cell_type": "code",
   "execution_count": 94,
   "metadata": {
    "id": "BRq70CUpAmYx"
   },
   "outputs": [],
   "source": [
    "ratio, differences, outliers = evaluate_predictions(predictions, y_test, 0.01)"
   ]
  },
  {
   "cell_type": "code",
   "execution_count": 95,
   "metadata": {
    "colab": {
     "base_uri": "https://localhost:8080/"
    },
    "id": "nVUH8GDDAoRn",
    "outputId": "10fc1262-5bcb-48ce-cc87-d23834d92abb"
   },
   "outputs": [
    {
     "data": {
      "text/plain": [
       "88    -0.902219\n",
       "136   -0.891335\n",
       "904   -0.906387\n",
       "184   -0.788904\n",
       "759   -0.483286\n",
       "89    -0.860853\n",
       "520   -0.767941\n",
       "425   -1.028903\n",
       "758   -0.567931\n",
       "dtype: float64"
      ]
     },
     "execution_count": 95,
     "metadata": {
      "tags": []
     },
     "output_type": "execute_result"
    }
   ],
   "source": [
    "for index in outliers.index: \n",
    "    outliers[index] = predictions[index]\n",
    "outliers"
   ]
  },
  {
   "cell_type": "code",
   "execution_count": 96,
   "metadata": {
    "colab": {
     "base_uri": "https://localhost:8080/",
     "height": 279
    },
    "id": "GlBqWb7DAq4v",
    "outputId": "591f3363-8072-4012-b685-0d7da50ffcd7"
   },
   "outputs": [
    {
     "data": {
      "image/png": "[encoded data removed]",
      "text/plain": [
       "<Figure size 1080x288 with 1 Axes>"
      ]
     },
     "metadata": {
      "needs_background": "light",
      "tags": []
     },
     "output_type": "display_data"
    }
   ],
   "source": [
    "# Showing the predicted vs. actual values\n",
    "fig, axs = plt.subplots()\n",
    "fig.set_figheight(4)\n",
    "fig.set_figwidth(15)\n",
    "\n",
    "axs.plot(predictions,color='red', label='Predicted')\n",
    "axs.plot(y_test,color='blue', label='Actual')\n",
    "axs.scatter(outliers.index,outliers, color='green', linewidth=5.0, label='Anomalies')\n",
    "plt.xlabel('Timestamp')\n",
    "plt.ylabel('Scaled number of passengers')\n",
    "plt.legend(loc='upper left')\n",
    "plt.show()"
   ]
  },
  {
   "cell_type": "code",
   "execution_count": null,
   "metadata": {
    "id": "mJ3jGtdRAtD4"
   },
   "outputs": [],
   "source": []
  }
 ],
 "metadata": {
  "colab": {
   "collapsed_sections": [],
   "name": "Analytics 4 Exam",
   "provenance": []
  },
  "kernelspec": {
   "display_name": "Python 3",
   "language": "python",
   "name": "python3"
  },
  "language_info": {
   "codemirror_mode": {
    "name": "ipython",
    "version": 3
   },
   "file_extension": ".py",
   "mimetype": "text/x-python",
   "name": "python",
   "nbconvert_exporter": "python",
   "pygments_lexer": "ipython3",
   "version": "3.8.8"
  }
 },
 "nbformat": 4,
 "nbformat_minor": 1
}
